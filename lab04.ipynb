{
 "cells": [
  {
   "cell_type": "markdown",
   "id": "240177b2-c857-437b-9695-b2f6cdb7de5d",
   "metadata": {},
   "source": [
    "# Лабораторна робота 4. Підгрупи, системи твірних\n",
    "\n",
    "\n",
    "_Примітка_: наведений код є лише одним з можливих шаблонів виконання. Можете писати по-своєму, але розділяйте свій код на функції, щоб їх можна було простіше перевіряти.\n",
    "\n",
    "## Завдання 1. \n",
    "\n",
    "__Знайдіть усі незвідні системи твірних групи $S_4$.__"
   ]
  },
  {
   "cell_type": "code",
   "execution_count": 8,
   "id": "48c12298-55e9-4d0f-89c5-bdd276410db8",
   "metadata": {},
   "outputs": [],
   "source": [
    "from itertools import combinations\n",
    "\n",
    "def find_irr_groups(group):\n",
    "    irr_groups = []\n",
    "    elements = list(group)\n",
    "\n",
    "    for size in range(2, 4):\n",
    "        for subset in combinations(elements, size):\n",
    "            subgroup = group.subgroup(subset)\n",
    "            if subgroup == group:\n",
    "                if not any(set(existing.gens()).issubset(subset) for existing in irr_groups):\n",
    "                    irr_groups.append(subgroup)\n",
    "    \n",
    "    return irr_groups\n",
    "\n",
    "S = SymmetricGroup(4)\n",
    "irreducible_groups = find_irr_groups(S)\n",
    "\n",
    "with open(\"Irreducible_group_S4.txt\", 'w') as file:\n",
    "    for group in irreducible_groups:\n",
    "        file.write(f'{group};\\n')\n"
   ]
  },
  {
   "cell_type": "markdown",
   "id": "bb9f5726-dd3b-48e0-85be-d725af835ce2",
   "metadata": {},
   "source": [
    "## Завдання 2. \n",
    "\n",
    "__Знайдіть усі підгрупи груп $S_4, A_4, S_5, A_5$.__"
   ]
  },
  {
   "cell_type": "code",
   "execution_count": 10,
   "id": "600b817c-bfd5-449c-8c18-67848ccb4403",
   "metadata": {},
   "outputs": [],
   "source": [
    "def write_subgroups_to_file(subgroup_list, filename_prefix):\n",
    "    with open(f\"{filename_prefix}_subgroups.txt\", 'w') as output:\n",
    "        for subgroup in subgroup_list:\n",
    "            output.write(f'{subgroup};\\n')\n",
    "\n",
    "group_dict = {\n",
    "    \"S4\": SymmetricGroup(4),\n",
    "    \"A4\": AlternatingGroup(4),\n",
    "    \"S5\": SymmetricGroup(5),\n",
    "    \"A5\": AlternatingGroup(5),\n",
    "}\n",
    "\n",
    "with open(\"Subgroups.txt\", 'w') as output_file:\n",
    "    for group_name, group_obj in group_dict.items():\n",
    "        output_file.write(f\"Subgroups for {group_name}:\\n\")\n",
    "        for subgroup in group_obj.subgroups():\n",
    "            output_file.write(f'{subgroup};\\n')\n",
    "        output_file.write('\\n')\n"
   ]
  },
  {
   "cell_type": "markdown",
   "id": "653a9629-e757-442f-af0b-bd53b4694cff",
   "metadata": {},
   "source": [
    "## Завдання 3. \n",
    "\n",
    "__Задайте дві випадкові підстановки з групи $S_n, \\, (1 \\le n \\le 100)$. Перевірте чи є вони парними. Знайдіть порядок групи, ними породженої. Чи буде ця група дорівнювати $A_n$? $S_n$?__"
   ]
  },
  {
   "cell_type": "code",
   "execution_count": 6,
   "id": "ee732968-a661-4c26-b729-6b17b1e0a3e3",
   "metadata": {},
   "outputs": [
    {
     "name": "stdin",
     "output_type": "stream",
     "text": [
      "Enter n:  3\n",
      "Enter permutation 1:  (1,2)\n",
      "Enter permutation 2:  (1,3)\n"
     ]
    },
    {
     "name": "stdout",
     "output_type": "stream",
     "text": [
      "Sign of perm 1: -1\n",
      "Sign of perm 2: -1\n",
      "Order of the created group: 6\n",
      "S == S3\n",
      "S != A3\n"
     ]
    }
   ],
   "source": [
    "n = int(input(\"Enter n: \"))\n",
    "Sn = SymmetricGroup(n)\n",
    "An = AlternatingGroup(n)\n",
    "s1 = Sn(input(\"Enter permutation 1: \"))\n",
    "s2 = Sn(input(\"Enter permutation 2: \"))\n",
    "S = Sn.subgroup([s1, s2])\n",
    "print(f\"Sign of perm 1: {s1.sign()}\")\n",
    "print(f\"Sign of perm 2: {s2.sign()}\")\n",
    "print(f\"Order of the created group: {S.order()}\")\n",
    "if S == Sn:\n",
    "    print(f\"S == S{n}\")\n",
    "else:\n",
    "    print(f\"S != S{n}\")\n",
    "if S == An:\n",
    "    print(f\"S == A{n}\")\n",
    "else:\n",
    "    print(f\"S != A{n}\")"
   ]
  },
  {
   "cell_type": "markdown",
   "id": "32485aa0-d40f-4b33-a030-7d3bd7722d70",
   "metadata": {},
   "source": [
    "## Завдання 4. \n",
    "\n",
    "__Покажіть, що теорема Лагранжа працює тільки в одну сторону: знайдіть приклад групи $G$ і дільник порядку цієї групи $d$ такі, що не існує підгрупи $H < G$ порядку $d$.__\n",
    "\n",
    "___Зауваження:___ група $A_4$ не приймається"
   ]
  },
  {
   "cell_type": "code",
   "execution_count": null,
   "id": "1391015a-a20e-41d5-b631-6251d1e69316",
   "metadata": {},
   "outputs": [],
   "source": []
  },
  {
   "cell_type": "code",
   "execution_count": null,
   "id": "b68a7d14-cbfe-4c75-95f3-2a2c9560d5f2",
   "metadata": {},
   "outputs": [],
   "source": []
  }
 ],
 "metadata": {
  "kernelspec": {
   "display_name": "SageMath 10.4",
   "language": "sage",
   "name": "sagemath"
  },
  "language_info": {
   "codemirror_mode": {
    "name": "ipython",
    "version": 3
   },
   "file_extension": ".py",
   "mimetype": "text/x-python",
   "name": "python",
   "nbconvert_exporter": "python",
   "pygments_lexer": "ipython3",
   "version": "3.11.10"
  }
 },
 "nbformat": 4,
 "nbformat_minor": 5
}
